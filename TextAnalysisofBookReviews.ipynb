{
 "cells": [
  {
   "cell_type": "markdown",
   "metadata": {},
   "source": [
    "# Text analysis of book reviews with NLP"
   ]
  },
  {
   "cell_type": "markdown",
   "metadata": {},
   "source": [
    "## Data Loading and Exploring"
   ]
  },
  {
   "cell_type": "markdown",
   "metadata": {},
   "source": [
    "This report conducted text analysis of the reviews of two books, Harry Potter 1 and 2, via NLP. Each dataset has 24 records and contains the names of the reviewers, their detailed reviews and the star rating the gave the book. They can be downloaded from  \n",
    "\n",
    "The dataset for the sentiment analysis is reviews of \"Harry Potter and the Sorcerer's Stone ((Harry Potter #1))\" by J.K. Rowling taken from a book review website \"goodreads\": https://www.goodreads.com/book/show/3.Harry_Potter_and_the_Sorcerer_s_Stone. 24 reviews were copied from the website and stored in a csv file, with an effort to include some reviews made by reviewers who had also reviewed Harry Potter and the Chamber of Secrets (Harry Potter #2) for the similarity analysis. (Book1 could be downloaded from https://raw.githubusercontent.com/jade22/data/master/harrypotter_reviews_book1_v2.csv.)\n",
    "\n",
    "The dataset for the similarity analysis is reviews of \"Harry Potter and the Chamber of Secrets ((Harry Potter #2))\" by J.K. Rowling taken from a book review website \"goodreads\": https://www.goodreads.com/book/show/15881.Harry_Potter_and_the_Chamber_of_Secrets. 17 of the 24 reviews in this dataset are written by the same reviewers who wrote a review for Harry Potter #1 that is included in the first dataset. (Book2 could be downloaded from https://raw.githubusercontent.com/jade22/data/master/harrypotter_reviews_book2_v2.csv.)"
   ]
  },
  {
   "cell_type": "code",
   "execution_count": 1,
   "metadata": {},
   "outputs": [
    {
     "data": {
      "text/html": [
       "<div>\n",
       "<style scoped>\n",
       "    .dataframe tbody tr th:only-of-type {\n",
       "        vertical-align: middle;\n",
       "    }\n",
       "\n",
       "    .dataframe tbody tr th {\n",
       "        vertical-align: top;\n",
       "    }\n",
       "\n",
       "    .dataframe thead th {\n",
       "        text-align: right;\n",
       "    }\n",
       "</style>\n",
       "<table border=\"1\" class=\"dataframe\">\n",
       "  <thead>\n",
       "    <tr style=\"text-align: right;\">\n",
       "      <th></th>\n",
       "      <th>reviewer_name</th>\n",
       "      <th>star_rating</th>\n",
       "      <th>review</th>\n",
       "    </tr>\n",
       "  </thead>\n",
       "  <tbody>\n",
       "    <tr>\n",
       "      <th>0</th>\n",
       "      <td>Lora</td>\n",
       "      <td>5</td>\n",
       "      <td>I'm going to keep this brief since there isn't...</td>\n",
       "    </tr>\n",
       "    <tr>\n",
       "      <th>1</th>\n",
       "      <td>Zoë</td>\n",
       "      <td>5</td>\n",
       "      <td>I will never ever rate this lower than 5 stars...</td>\n",
       "    </tr>\n",
       "    <tr>\n",
       "      <th>2</th>\n",
       "      <td>Sasha Alsberg</td>\n",
       "      <td>5</td>\n",
       "      <td>Why the heck did I not read Harry Potter befor...</td>\n",
       "    </tr>\n",
       "    <tr>\n",
       "      <th>3</th>\n",
       "      <td>Jayson</td>\n",
       "      <td>4</td>\n",
       "      <td>(A-) 83% | Very Good\\nNotes: Despite a weak cl...</td>\n",
       "    </tr>\n",
       "    <tr>\n",
       "      <th>4</th>\n",
       "      <td>Harold Bloom</td>\n",
       "      <td>1</td>\n",
       "      <td>Can 35 Million Book Buyers Be Wrong? Yes.\\n\\nT...</td>\n",
       "    </tr>\n",
       "  </tbody>\n",
       "</table>\n",
       "</div>"
      ],
      "text/plain": [
       "   reviewer_name  star_rating  \\\n",
       "0          Lora             5   \n",
       "1           Zoë             5   \n",
       "2  Sasha Alsberg            5   \n",
       "3        Jayson             4   \n",
       "4  Harold Bloom             1   \n",
       "\n",
       "                                              review  \n",
       "0  I'm going to keep this brief since there isn't...  \n",
       "1  I will never ever rate this lower than 5 stars...  \n",
       "2  Why the heck did I not read Harry Potter befor...  \n",
       "3  (A-) 83% | Very Good\\nNotes: Despite a weak cl...  \n",
       "4  Can 35 Million Book Buyers Be Wrong? Yes.\\n\\nT...  "
      ]
     },
     "execution_count": 1,
     "metadata": {},
     "output_type": "execute_result"
    }
   ],
   "source": [
    "import pandas as pd \n",
    "book_1= pd.read_csv(\"https://raw.githubusercontent.com/jade22/data/master/harrypotter_reviews_book1_v2.csv\")\n",
    "book_1.head()"
   ]
  },
  {
   "cell_type": "code",
   "execution_count": 2,
   "metadata": {},
   "outputs": [
    {
     "data": {
      "text/html": [
       "<div>\n",
       "<style scoped>\n",
       "    .dataframe tbody tr th:only-of-type {\n",
       "        vertical-align: middle;\n",
       "    }\n",
       "\n",
       "    .dataframe tbody tr th {\n",
       "        vertical-align: top;\n",
       "    }\n",
       "\n",
       "    .dataframe thead th {\n",
       "        text-align: right;\n",
       "    }\n",
       "</style>\n",
       "<table border=\"1\" class=\"dataframe\">\n",
       "  <thead>\n",
       "    <tr style=\"text-align: right;\">\n",
       "      <th></th>\n",
       "      <th>reviewer_name</th>\n",
       "      <th>star_rating</th>\n",
       "      <th>review</th>\n",
       "    </tr>\n",
       "  </thead>\n",
       "  <tbody>\n",
       "    <tr>\n",
       "      <th>0</th>\n",
       "      <td>Lora</td>\n",
       "      <td>4</td>\n",
       "      <td>\"It is our choices, Harry, that show what we t...</td>\n",
       "    </tr>\n",
       "    <tr>\n",
       "      <th>1</th>\n",
       "      <td>Zoë</td>\n",
       "      <td>5</td>\n",
       "      <td>“It is our choices, Harry, that show what we t...</td>\n",
       "    </tr>\n",
       "    <tr>\n",
       "      <th>2</th>\n",
       "      <td>Sasha Alsberg</td>\n",
       "      <td>5</td>\n",
       "      <td>JK Rowling really knows how to write a great b...</td>\n",
       "    </tr>\n",
       "    <tr>\n",
       "      <th>3</th>\n",
       "      <td>Jayson</td>\n",
       "      <td>4</td>\n",
       "      <td>(A-) 83% | Very Good\\nNotes: A clever conjurat...</td>\n",
       "    </tr>\n",
       "    <tr>\n",
       "      <th>4</th>\n",
       "      <td>Amanda Patterson</td>\n",
       "      <td>1</td>\n",
       "      <td>I have nothing to say.</td>\n",
       "    </tr>\n",
       "  </tbody>\n",
       "</table>\n",
       "</div>"
      ],
      "text/plain": [
       "       reviewer_name  star_rating  \\\n",
       "0              Lora             4   \n",
       "1               Zoë             5   \n",
       "2     Sasha Alsberg             5   \n",
       "3             Jayson            4   \n",
       "4  Amanda Patterson             1   \n",
       "\n",
       "                                              review  \n",
       "0  \"It is our choices, Harry, that show what we t...  \n",
       "1  “It is our choices, Harry, that show what we t...  \n",
       "2  JK Rowling really knows how to write a great b...  \n",
       "3  (A-) 83% | Very Good\\nNotes: A clever conjurat...  \n",
       "4                             I have nothing to say.  "
      ]
     },
     "execution_count": 2,
     "metadata": {},
     "output_type": "execute_result"
    }
   ],
   "source": [
    "book_2= pd.read_csv(\"https://raw.githubusercontent.com/jade22/data/master/harrypotter_reviews_book2_v2.csv\")\n",
    "book_2.head()"
   ]
  },
  {
   "cell_type": "code",
   "execution_count": 3,
   "metadata": {},
   "outputs": [
    {
     "name": "stdout",
     "output_type": "stream",
     "text": [
      "Reviews of Harry Potter 1:\n",
      "\n",
      "reviewer_name    object\n",
      "star_rating       int64\n",
      "review           object\n",
      "dtype: object\n",
      "\n",
      "\n",
      "Reviews of Harry Potter 2:\n",
      "\n",
      "reviewer_name    object\n",
      "star_rating       int64\n",
      "review           object\n",
      "dtype: object\n"
     ]
    }
   ],
   "source": [
    "print(f'''Reviews of Harry Potter 1:\n",
    "\n",
    "{book_1.dtypes}''')\n",
    "print(f'''\\n\\nReviews of Harry Potter 2:\n",
    "\n",
    "{book_2.dtypes}''')"
   ]
  },
  {
   "cell_type": "markdown",
   "metadata": {},
   "source": [
    "## Data Cleaning (text correction & stop_words deletion)"
   ]
  },
  {
   "cell_type": "markdown",
   "metadata": {},
   "source": [
    "As shown above, each review is a long string including several paragraphs. It's necessary to confirm there is no wrong spelling words which will disturb the following text analysis. Besides, removing stop_words from the reviews is helpful to improve the accuracy of text analysis. Therefore, we cleaned the two datasets first before the fomal analysis."
   ]
  },
  {
   "cell_type": "code",
   "execution_count": 4,
   "metadata": {},
   "outputs": [
    {
     "name": "stderr",
     "output_type": "stream",
     "text": [
      "[nltk_data] Downloading package stopwords to\n",
      "[nltk_data]     /Users/JadeZHOU/nltk_data...\n",
      "[nltk_data]   Package stopwords is already up-to-date!\n"
     ]
    }
   ],
   "source": [
    "from textblob import TextBlob\n",
    "from textblob import Word\n",
    "import nltk\n",
    "from nltk.corpus import stopwords\n",
    "\n",
    "nltk.download('stopwords')\n",
    "stop_words = stopwords.words('english')"
   ]
  },
  {
   "cell_type": "code",
   "execution_count": 5,
   "metadata": {},
   "outputs": [],
   "source": [
    "def correct_delete_stop_words(reviews):\n",
    "    reviews_corr_useful = []\n",
    "    for review in reviews:\n",
    "        review_corrected = TextBlob(review.lower()).correct()\n",
    "        review_useful_words = ' '.join([word for word in review_corrected.words if word not in stop_words])\n",
    "        reviews_corr_useful.append(review_useful_words)\n",
    "    print(f'{len(reviews)} reviews completed')\n",
    "    return reviews_corr_useful"
   ]
  },
  {
   "cell_type": "code",
   "execution_count": 6,
   "metadata": {},
   "outputs": [
    {
     "name": "stdout",
     "output_type": "stream",
     "text": [
      "24 reviews completed\n"
     ]
    }
   ],
   "source": [
    "reviews1 = list(book_1['review'])\n",
    "reviews_corr_useful_1 = correct_delete_stop_words(reviews1)"
   ]
  },
  {
   "cell_type": "code",
   "execution_count": 7,
   "metadata": {},
   "outputs": [
    {
     "name": "stdout",
     "output_type": "stream",
     "text": [
      "24 reviews completed\n"
     ]
    }
   ],
   "source": [
    "reviews2 = list(book_2['review'])\n",
    "reviews_corr_useful_2 = correct_delete_stop_words(reviews2)"
   ]
  },
  {
   "cell_type": "markdown",
   "metadata": {},
   "source": [
    "## Sentiment analysis"
   ]
  },
  {
   "cell_type": "markdown",
   "metadata": {},
   "source": [
    "Here we conducted sentiment analysis based on the package TextBlob. Specifically, two different sentiment analyzers were employed and their accuracy rate was compared. One analyzer is TextBlob's default sentiment analyzer and the other one is the NaiveBayesAnalyzer. \n",
    "\n",
    "***Install necessary packages:***\n",
    "\n",
    "Note: Run the following commands in terminal first to install necessary package:\n",
    "    \n",
    "    --------------------------------------\n",
    "    conda install -c conda-forge textblob\n",
    "    ipython -m textblob.download_corpora\n",
    "    --------------------------------------"
   ]
  },
  {
   "cell_type": "markdown",
   "metadata": {},
   "source": [
    "### Sentiment Analysis with TextBlob’s Default Sentiment Analyzer\n",
    "We can start by using TextBlob's default senitment analyzer to analyze the reviews. TextBlob's default sentiment analyzer returns a polarity and subjectivity value. The polarity value is float between -1 and 1 where 1 is the most positive statement and -1 is the most negative statement. Subjectivity represents how muuch personal opinion, emotion or judgement is included in the text and is returned as a flat between 0 and 1 where 1 means that statement contains mostly opinion, and 0 means that statement contains mostly factual information (i.e. objective)."
   ]
  },
  {
   "cell_type": "code",
   "execution_count": 8,
   "metadata": {},
   "outputs": [
    {
     "data": {
      "text/html": [
       "<div>\n",
       "<style scoped>\n",
       "    .dataframe tbody tr th:only-of-type {\n",
       "        vertical-align: middle;\n",
       "    }\n",
       "\n",
       "    .dataframe tbody tr th {\n",
       "        vertical-align: top;\n",
       "    }\n",
       "\n",
       "    .dataframe thead th {\n",
       "        text-align: right;\n",
       "    }\n",
       "</style>\n",
       "<table border=\"1\" class=\"dataframe\">\n",
       "  <thead>\n",
       "    <tr style=\"text-align: right;\">\n",
       "      <th></th>\n",
       "      <th>reviewer_name</th>\n",
       "      <th>star_rating</th>\n",
       "      <th>review</th>\n",
       "      <th>polarity</th>\n",
       "      <th>subjectivity</th>\n",
       "    </tr>\n",
       "  </thead>\n",
       "  <tbody>\n",
       "    <tr>\n",
       "      <th>0</th>\n",
       "      <td>Lora</td>\n",
       "      <td>5</td>\n",
       "      <td>I'm going to keep this brief since there isn't...</td>\n",
       "      <td>0.159766</td>\n",
       "      <td>0.658073</td>\n",
       "    </tr>\n",
       "    <tr>\n",
       "      <th>1</th>\n",
       "      <td>Zoë</td>\n",
       "      <td>5</td>\n",
       "      <td>I will never ever rate this lower than 5 stars...</td>\n",
       "      <td>0.850000</td>\n",
       "      <td>1.000000</td>\n",
       "    </tr>\n",
       "    <tr>\n",
       "      <th>2</th>\n",
       "      <td>Sasha Alsberg</td>\n",
       "      <td>5</td>\n",
       "      <td>Why the heck did I not read Harry Potter befor...</td>\n",
       "      <td>0.625000</td>\n",
       "      <td>1.000000</td>\n",
       "    </tr>\n",
       "    <tr>\n",
       "      <th>3</th>\n",
       "      <td>Jayson</td>\n",
       "      <td>4</td>\n",
       "      <td>(A-) 83% | Very Good\\nNotes: Despite a weak cl...</td>\n",
       "      <td>0.585000</td>\n",
       "      <td>0.809167</td>\n",
       "    </tr>\n",
       "    <tr>\n",
       "      <th>4</th>\n",
       "      <td>Harold Bloom</td>\n",
       "      <td>1</td>\n",
       "      <td>Can 35 Million Book Buyers Be Wrong? Yes.\\n\\nT...</td>\n",
       "      <td>0.161897</td>\n",
       "      <td>0.556172</td>\n",
       "    </tr>\n",
       "    <tr>\n",
       "      <th>5</th>\n",
       "      <td>Amanda Patterson</td>\n",
       "      <td>1</td>\n",
       "      <td>These books terrify me.\\nThey are badly writte...</td>\n",
       "      <td>-0.125000</td>\n",
       "      <td>0.722222</td>\n",
       "    </tr>\n",
       "    <tr>\n",
       "      <th>6</th>\n",
       "      <td>Bria</td>\n",
       "      <td>1</td>\n",
       "      <td>You're a wimp Harry.\\n\\nHarry is the perfect b...</td>\n",
       "      <td>0.116324</td>\n",
       "      <td>0.595749</td>\n",
       "    </tr>\n",
       "    <tr>\n",
       "      <th>7</th>\n",
       "      <td>Sabrina</td>\n",
       "      <td>2</td>\n",
       "      <td>After billions of years, I finally read this b...</td>\n",
       "      <td>0.275000</td>\n",
       "      <td>0.575000</td>\n",
       "    </tr>\n",
       "    <tr>\n",
       "      <th>8</th>\n",
       "      <td>Nina</td>\n",
       "      <td>5</td>\n",
       "      <td>My second-favorite part of this series! I've r...</td>\n",
       "      <td>0.403409</td>\n",
       "      <td>0.709091</td>\n",
       "    </tr>\n",
       "    <tr>\n",
       "      <th>9</th>\n",
       "      <td>Ginger</td>\n",
       "      <td>2</td>\n",
       "      <td>I want to like the Harry Potter novels, I real...</td>\n",
       "      <td>0.205625</td>\n",
       "      <td>0.532500</td>\n",
       "    </tr>\n",
       "    <tr>\n",
       "      <th>10</th>\n",
       "      <td>Krystal</td>\n",
       "      <td>4</td>\n",
       "      <td>Once upon a time, there was a girl who hated H...</td>\n",
       "      <td>0.131154</td>\n",
       "      <td>0.589523</td>\n",
       "    </tr>\n",
       "    <tr>\n",
       "      <th>11</th>\n",
       "      <td>Renee Godding</td>\n",
       "      <td>5</td>\n",
       "      <td>Sometimes home isn’t a place. Sometimes it’s a...</td>\n",
       "      <td>0.000000</td>\n",
       "      <td>0.000000</td>\n",
       "    </tr>\n",
       "    <tr>\n",
       "      <th>12</th>\n",
       "      <td>Cindy Pham</td>\n",
       "      <td>3</td>\n",
       "      <td>This book was okay. I didn't hate it or love i...</td>\n",
       "      <td>0.185526</td>\n",
       "      <td>0.611404</td>\n",
       "    </tr>\n",
       "    <tr>\n",
       "      <th>13</th>\n",
       "      <td>Em Lost In Books</td>\n",
       "      <td>3</td>\n",
       "      <td>Funny, fast and an entertaining read.</td>\n",
       "      <td>0.316667</td>\n",
       "      <td>0.766667</td>\n",
       "    </tr>\n",
       "    <tr>\n",
       "      <th>14</th>\n",
       "      <td>Samantha</td>\n",
       "      <td>4</td>\n",
       "      <td>Do you know how hard it is to rate these books...</td>\n",
       "      <td>0.104167</td>\n",
       "      <td>0.715278</td>\n",
       "    </tr>\n",
       "    <tr>\n",
       "      <th>15</th>\n",
       "      <td>ambsreads</td>\n",
       "      <td>5</td>\n",
       "      <td>Despite absolutely adoring the movies and havi...</td>\n",
       "      <td>0.254545</td>\n",
       "      <td>0.670707</td>\n",
       "    </tr>\n",
       "    <tr>\n",
       "      <th>16</th>\n",
       "      <td>Maureen</td>\n",
       "      <td>5</td>\n",
       "      <td>I LOVE Harry Potter, fantastic start to the se...</td>\n",
       "      <td>0.319271</td>\n",
       "      <td>0.563542</td>\n",
       "    </tr>\n",
       "    <tr>\n",
       "      <th>17</th>\n",
       "      <td>Lara</td>\n",
       "      <td>5</td>\n",
       "      <td>Do I even need to write a review?</td>\n",
       "      <td>0.000000</td>\n",
       "      <td>0.000000</td>\n",
       "    </tr>\n",
       "    <tr>\n",
       "      <th>18</th>\n",
       "      <td>Elyse Walters</td>\n",
       "      <td>5</td>\n",
       "      <td>Why didn’t anyone tell me —haha —-\\nI can’t us...</td>\n",
       "      <td>0.367050</td>\n",
       "      <td>0.700306</td>\n",
       "    </tr>\n",
       "    <tr>\n",
       "      <th>19</th>\n",
       "      <td>Kainat(HUFFLEPUFF &amp; PROUD)</td>\n",
       "      <td>3</td>\n",
       "      <td>No matter what anyone says I am never doubting...</td>\n",
       "      <td>0.387642</td>\n",
       "      <td>0.591351</td>\n",
       "    </tr>\n",
       "    <tr>\n",
       "      <th>20</th>\n",
       "      <td>Virginia Ronan Herondale</td>\n",
       "      <td>5</td>\n",
       "      <td>I have absolutley no idea why goodreads delete...</td>\n",
       "      <td>0.166099</td>\n",
       "      <td>0.554905</td>\n",
       "    </tr>\n",
       "    <tr>\n",
       "      <th>21</th>\n",
       "      <td>James Lafayette Tivendale</td>\n",
       "      <td>4</td>\n",
       "      <td>I'm not going to review this properly as I thi...</td>\n",
       "      <td>0.453571</td>\n",
       "      <td>0.758571</td>\n",
       "    </tr>\n",
       "    <tr>\n",
       "      <th>22</th>\n",
       "      <td>Ahmad Sharabiani</td>\n",
       "      <td>5</td>\n",
       "      <td>Harry Potter and the Philosopher's Stone = Har...</td>\n",
       "      <td>0.036364</td>\n",
       "      <td>0.309091</td>\n",
       "    </tr>\n",
       "    <tr>\n",
       "      <th>23</th>\n",
       "      <td>Khanh, first of her name, mother of bunnies</td>\n",
       "      <td>5</td>\n",
       "      <td>Rereading for the 3rd time for the group read....</td>\n",
       "      <td>0.169498</td>\n",
       "      <td>0.508443</td>\n",
       "    </tr>\n",
       "  </tbody>\n",
       "</table>\n",
       "</div>"
      ],
      "text/plain": [
       "                                   reviewer_name  star_rating  \\\n",
       "0                                          Lora             5   \n",
       "1                                           Zoë             5   \n",
       "2                                  Sasha Alsberg            5   \n",
       "3                                        Jayson             4   \n",
       "4                                  Harold Bloom             1   \n",
       "5                              Amanda Patterson             1   \n",
       "6                                           Bria            1   \n",
       "7                                        Sabrina            2   \n",
       "8                                           Nina            5   \n",
       "9                                         Ginger            2   \n",
       "10                                       Krystal            4   \n",
       "11                                 Renee Godding            5   \n",
       "12                                    Cindy Pham            3   \n",
       "13                              Em Lost In Books            3   \n",
       "14                                      Samantha            4   \n",
       "15                                     ambsreads            5   \n",
       "16                                       Maureen            5   \n",
       "17                                          Lara            5   \n",
       "18                                 Elyse Walters            5   \n",
       "19                    Kainat(HUFFLEPUFF & PROUD)            3   \n",
       "20                      Virginia Ronan Herondale            5   \n",
       "21                     James Lafayette Tivendale            4   \n",
       "22                             Ahmad Sharabiani             5   \n",
       "23  Khanh, first of her name, mother of bunnies             5   \n",
       "\n",
       "                                               review  polarity  subjectivity  \n",
       "0   I'm going to keep this brief since there isn't...  0.159766      0.658073  \n",
       "1   I will never ever rate this lower than 5 stars...  0.850000      1.000000  \n",
       "2   Why the heck did I not read Harry Potter befor...  0.625000      1.000000  \n",
       "3   (A-) 83% | Very Good\\nNotes: Despite a weak cl...  0.585000      0.809167  \n",
       "4   Can 35 Million Book Buyers Be Wrong? Yes.\\n\\nT...  0.161897      0.556172  \n",
       "5   These books terrify me.\\nThey are badly writte... -0.125000      0.722222  \n",
       "6   You're a wimp Harry.\\n\\nHarry is the perfect b...  0.116324      0.595749  \n",
       "7   After billions of years, I finally read this b...  0.275000      0.575000  \n",
       "8   My second-favorite part of this series! I've r...  0.403409      0.709091  \n",
       "9   I want to like the Harry Potter novels, I real...  0.205625      0.532500  \n",
       "10  Once upon a time, there was a girl who hated H...  0.131154      0.589523  \n",
       "11  Sometimes home isn’t a place. Sometimes it’s a...  0.000000      0.000000  \n",
       "12  This book was okay. I didn't hate it or love i...  0.185526      0.611404  \n",
       "13              Funny, fast and an entertaining read.  0.316667      0.766667  \n",
       "14  Do you know how hard it is to rate these books...  0.104167      0.715278  \n",
       "15  Despite absolutely adoring the movies and havi...  0.254545      0.670707  \n",
       "16  I LOVE Harry Potter, fantastic start to the se...  0.319271      0.563542  \n",
       "17                  Do I even need to write a review?  0.000000      0.000000  \n",
       "18  Why didn’t anyone tell me —haha —-\\nI can’t us...  0.367050      0.700306  \n",
       "19  No matter what anyone says I am never doubting...  0.387642      0.591351  \n",
       "20  I have absolutley no idea why goodreads delete...  0.166099      0.554905  \n",
       "21  I'm not going to review this properly as I thi...  0.453571      0.758571  \n",
       "22  Harry Potter and the Philosopher's Stone = Har...  0.036364      0.309091  \n",
       "23  Rereading for the 3rd time for the group read....  0.169498      0.508443  "
      ]
     },
     "execution_count": 8,
     "metadata": {},
     "output_type": "execute_result"
    }
   ],
   "source": [
    "from textblob import TextBlob\n",
    "book_1['polarity'] = book_1['review'].apply(lambda text: TextBlob(text).sentiment[0])\n",
    "book_1['subjectivity'] = book_1['review'].apply(lambda text: TextBlob(text).sentiment[1])\n",
    "\n",
    "# source: https://stackoverflow.com/questions/43485469/apply-textblob-in-for-each-row-of-a-dataframe\n",
    "\n",
    "book_1"
   ]
  },
  {
   "cell_type": "code",
   "execution_count": 9,
   "metadata": {},
   "outputs": [
    {
     "data": {
      "text/html": [
       "<div>\n",
       "<style scoped>\n",
       "    .dataframe tbody tr th:only-of-type {\n",
       "        vertical-align: middle;\n",
       "    }\n",
       "\n",
       "    .dataframe tbody tr th {\n",
       "        vertical-align: top;\n",
       "    }\n",
       "\n",
       "    .dataframe thead th {\n",
       "        text-align: right;\n",
       "    }\n",
       "</style>\n",
       "<table border=\"1\" class=\"dataframe\">\n",
       "  <thead>\n",
       "    <tr style=\"text-align: right;\">\n",
       "      <th></th>\n",
       "      <th>reviewer_name</th>\n",
       "      <th>star_rating</th>\n",
       "      <th>review</th>\n",
       "      <th>polarity</th>\n",
       "      <th>subjectivity</th>\n",
       "      <th>assign_rating_polar</th>\n",
       "    </tr>\n",
       "  </thead>\n",
       "  <tbody>\n",
       "    <tr>\n",
       "      <th>0</th>\n",
       "      <td>Lora</td>\n",
       "      <td>5</td>\n",
       "      <td>I'm going to keep this brief since there isn't...</td>\n",
       "      <td>0.173611</td>\n",
       "      <td>0.643827</td>\n",
       "      <td>3</td>\n",
       "    </tr>\n",
       "    <tr>\n",
       "      <th>1</th>\n",
       "      <td>Zoë</td>\n",
       "      <td>5</td>\n",
       "      <td>I will never ever rate this lower than 5 stars...</td>\n",
       "      <td>0.850000</td>\n",
       "      <td>1.000000</td>\n",
       "      <td>5</td>\n",
       "    </tr>\n",
       "    <tr>\n",
       "      <th>2</th>\n",
       "      <td>Sasha Alsberg</td>\n",
       "      <td>5</td>\n",
       "      <td>Why the heck did I not read Harry Potter befor...</td>\n",
       "      <td>0.200000</td>\n",
       "      <td>0.550000</td>\n",
       "      <td>3</td>\n",
       "    </tr>\n",
       "    <tr>\n",
       "      <th>3</th>\n",
       "      <td>Jayson</td>\n",
       "      <td>4</td>\n",
       "      <td>(A-) 83% | Very Good\\nNotes: Despite a weak cl...</td>\n",
       "      <td>0.550000</td>\n",
       "      <td>0.779167</td>\n",
       "      <td>5</td>\n",
       "    </tr>\n",
       "    <tr>\n",
       "      <th>4</th>\n",
       "      <td>Harold Bloom</td>\n",
       "      <td>1</td>\n",
       "      <td>Can 35 Million Book Buyers Be Wrong? Yes.\\n\\nT...</td>\n",
       "      <td>0.162154</td>\n",
       "      <td>0.570289</td>\n",
       "      <td>3</td>\n",
       "    </tr>\n",
       "  </tbody>\n",
       "</table>\n",
       "</div>"
      ],
      "text/plain": [
       "   reviewer_name  star_rating  \\\n",
       "0          Lora             5   \n",
       "1           Zoë             5   \n",
       "2  Sasha Alsberg            5   \n",
       "3        Jayson             4   \n",
       "4  Harold Bloom             1   \n",
       "\n",
       "                                              review  polarity  subjectivity  \\\n",
       "0  I'm going to keep this brief since there isn't...  0.173611      0.643827   \n",
       "1  I will never ever rate this lower than 5 stars...  0.850000      1.000000   \n",
       "2  Why the heck did I not read Harry Potter befor...  0.200000      0.550000   \n",
       "3  (A-) 83% | Very Good\\nNotes: Despite a weak cl...  0.550000      0.779167   \n",
       "4  Can 35 Million Book Buyers Be Wrong? Yes.\\n\\nT...  0.162154      0.570289   \n",
       "\n",
       "  assign_rating_polar  \n",
       "0                   3  \n",
       "1                   5  \n",
       "2                   3  \n",
       "3                   5  \n",
       "4                   3  "
      ]
     },
     "execution_count": 9,
     "metadata": {},
     "output_type": "execute_result"
    }
   ],
   "source": [
    "reviews_polar = []\n",
    "reviews_subj = []\n",
    "for review_words in reviews_corr_useful_1:\n",
    "    reviews_polar.append(TextBlob(review_words).sentiment[0])\n",
    "    reviews_subj.append(TextBlob(review_words).sentiment[1])\n",
    "    \n",
    "book_1['polarity'] = pd.Series(reviews_polar)\n",
    "book_1['subjectivity'] = pd.Series(reviews_subj)\n",
    "\n",
    "\n",
    "### Convert float polarity to category based on binning, referring from:\n",
    "### https://towardsdatascience.com/fine-grained-sentiment-analysis-in-python-part-1-2697bb111ed4)\n",
    "book_1['assign_rating_polar'] = pd.cut(book_1['polarity'], bins = 5,labels = [1, 2, 3, 4, 5])\n",
    "book_1.head()"
   ]
  },
  {
   "cell_type": "markdown",
   "metadata": {},
   "source": [
    "We can evaluate how well the default sentiment analyzer worked by comparing the number of stars to the calculated polarity value. We would expect the lowest polarity value for a one star review and the highest polarity value for a five start review. As shown by the figure below, we have low polarity readings for one star reviews with a large spread in the polarity values. The polarity values are higher for two and three star reviews, and there is less spread in the polarity values for those reviews. Four star reviews have a higher average polarity value than three star reviews, but the spread of the data is larger. Five start reviews have a lower average polarity value than the four star reviews. This graph suggests that the default sentiment analyzer was the best at analyzing the sentiment of two and three star reviews."
   ]
  },
  {
   "cell_type": "code",
   "execution_count": 10,
   "metadata": {},
   "outputs": [
    {
     "data": {
      "image/png": "[encoded data removed]",
      "text/plain": [
       "<Figure size 1080x720 with 1 Axes>"
      ]
     },
     "metadata": {
      "needs_background": "light"
     },
     "output_type": "display_data"
    }
   ],
   "source": [
    "from matplotlib import pyplot as plt\n",
    "import seaborn as sns\n",
    "plt.figure(figsize=(15,10))\n",
    "sns.boxenplot(x='star_rating', y='polarity', data=book_1)\n",
    "plt.show()"
   ]
  },
  {
   "cell_type": "markdown",
   "metadata": {},
   "source": [
    "#### Compare assigned rating with actual star-rating"
   ]
  },
  {
   "cell_type": "code",
   "execution_count": 11,
   "metadata": {},
   "outputs": [
    {
     "name": "stdout",
     "output_type": "stream",
     "text": [
      "Wrong assignments (based on polarity):\n",
      "[(3, 5), (3, 5), (5, 4), (3, 1), (3, 1), (3, 2), (4, 5), (3, 2), (3, 4), (3, 5), (4, 3), (3, 4), (4, 5), (3, 5), (3, 5), (4, 5), (4, 3), (3, 5), (3, 5), (3, 5)]\n",
      "\n",
      "number of pairs assigned correctly = 4\n",
      "        percentage of right rating = 16.67%\n"
     ]
    }
   ],
   "source": [
    "# show the wrong pairs\n",
    "wrong_assign_act_rating = [ (assi, act) \n",
    "          for (assi, act) in zip(book_1['assign_rating_polar'], book_1['star_rating']) \n",
    "          if assi != act]\n",
    "print('Wrong assignments (based on polarity):')\n",
    "print(wrong_assign_act_rating)\n",
    "\n",
    "rate_right = (len(book_1['assign_rating_polar']) - len(wrong_assign_act_rating))/len(book_1['assign_rating_polar'])\n",
    "print(f\"\\nnumber of pairs assigned correctly = {len(book_1['assign_rating_polar']) - len(wrong_assign_act_rating)}\")\n",
    "print(f'        percentage of right rating = {rate_right:.2%}')"
   ]
  },
  {
   "cell_type": "code",
   "execution_count": 12,
   "metadata": {},
   "outputs": [
    {
     "name": "stdout",
     "output_type": "stream",
     "text": [
      "              precision    recall  f1-score   support\n",
      "\n",
      "      star_1       1.00      0.33      0.50         3\n",
      "      star_2       1.00      0.00      0.00         2\n",
      "      star_3       0.07      0.33      0.11         3\n",
      "      star_4       0.17      0.25      0.20         4\n",
      "      star_5       0.50      0.08      0.14        12\n",
      "\n",
      "    accuracy                           0.17        24\n",
      "   macro avg       0.55      0.20      0.19        24\n",
      "weighted avg       0.49      0.17      0.18        24\n",
      "\n"
     ]
    }
   ],
   "source": [
    "# show analysis score\n",
    "\n",
    "from sklearn.metrics import classification_report\n",
    "names = ['star_1', 'star_2', 'star_3' , 'star_4', 'star_5']\n",
    "cr_polar = classification_report(book_1['star_rating'], book_1['assign_rating_polar'], target_names=names, zero_division = True)\n",
    "print(cr_polar)"
   ]
  },
  {
   "cell_type": "markdown",
   "metadata": {},
   "source": [
    "Since we are dealing with imbalanced classes during analysis (number of each star rating distributed unevenly), we look at the macro f1-score (which is the harmonic mean of the macro-averaged precision and recall) as well as classification accuracy. As can be seen, both the accuracy and the f1-score are very low, only 0.17 and 0.19 respectively which means the default analyzer is not a good choice."
   ]
  },
  {
   "cell_type": "code",
   "execution_count": 13,
   "metadata": {},
   "outputs": [],
   "source": [
    "# plot confusion matrix, refferring from: \n",
    "# https://github.com/prrao87/fine-grained-sentiment/blob/master/plotter.py\n",
    "\n",
    "from sklearn.metrics import confusion_matrix\n",
    "import matplotlib.pyplot as plt\n",
    "import numpy as np\n",
    "\n",
    "def plot_confusion_matrix(y_true, y_pred, \n",
    "                          classes=[1, 2, 3, 4, 5],\n",
    "                          normalize=False,\n",
    "                          cmap=plt.cm.YlOrBr):\n",
    "    \"\"\"\n",
    "    This function prints and plots the confusion matrix.\n",
    "    Normalization can be applied by setting `normalize=True`.\n",
    "    (Adapted from scikit-learn docs).\n",
    "    \"\"\"\n",
    "    # Compute confusion matrix\n",
    "    cm = confusion_matrix(y_true, y_pred)\n",
    "\n",
    "    if normalize:\n",
    "        cm = cm.astype('float') / cm.sum(axis=1)[:, np.newaxis]\n",
    "\n",
    "    fig, ax = plt.subplots()\n",
    "    im = ax.imshow(cm, interpolation='nearest', origin='lower', cmap=cmap)\n",
    "    ax.figure.colorbar(im, ax=ax)\n",
    "    # Show all ticks\n",
    "    ax.set(xticks=np.arange(cm.shape[1]),\n",
    "           yticks=np.arange(cm.shape[0]),\n",
    "           # Label with respective list entries\n",
    "           xticklabels=classes, yticklabels=classes,\n",
    "           ylabel='Actual rating',\n",
    "           xlabel='Assigned rating')\n",
    "\n",
    "    # Set alignment of tick labels\n",
    "    plt.setp(ax.get_xticklabels(), rotation=0, ha=\"right\",\n",
    "             rotation_mode=\"anchor\")\n",
    "\n",
    "    # Loop over data dimensions and create text annotations\n",
    "    fmt = '.2f' if normalize else 'd'\n",
    "    thresh = cm.max() / 2.\n",
    "    for i in range(cm.shape[0]):\n",
    "        for j in range(cm.shape[1]):\n",
    "            ax.text(j, i, format(cm[i, j], fmt),\n",
    "                    ha=\"center\", va=\"center\",\n",
    "                    color=\"white\" if cm[i, j] > thresh else \"black\")\n",
    "    return fig, ax"
   ]
  },
  {
   "cell_type": "code",
   "execution_count": 14,
   "metadata": {},
   "outputs": [
    {
     "data": {
      "text/plain": [
       "(<Figure size 432x288 with 2 Axes>,\n",
       " <matplotlib.axes._subplots.AxesSubplot at 0x1a21180390>)"
      ]
     },
     "execution_count": 14,
     "metadata": {},
     "output_type": "execute_result"
    },
    {
     "data": {
      "image/png": "[encoded data removed]",
      "text/plain": [
       "<Figure size 432x288 with 2 Axes>"
      ]
     },
     "metadata": {
      "needs_background": "light"
     },
     "output_type": "display_data"
    }
   ],
   "source": [
    "plot_confusion_matrix(book_1['star_rating'], book_1['assign_rating_polar'], normalize=True)"
   ]
  },
  {
   "cell_type": "markdown",
   "metadata": {},
   "source": [
    "The confusion matrix plot shows more detail about which classes were most incorrectly and correctly classified by the analyzer. Looking at the cells along the anti-diagonal. Cell [1, 1] shows the percentage of reviews belonging to star_1 that the analyzer classified correctly, cell [2, 2] for correct star_2 classification, and so on. Cells away from the anti-diagonal show the percentage of wrong classifications made for each respective class. For example, from the cell [4, 5] we can see that 25% of all reviews that actually belong to star_5 are incorrectly classified as star_4 by TextBlob default analyzer. The percentage of correct classifications are all low, less than 33%"
   ]
  },
  {
   "cell_type": "markdown",
   "metadata": {},
   "source": [
    "### Sentiment Analysis with the NaiveBayesAnalyzer"
   ]
  },
  {
   "cell_type": "markdown",
   "metadata": {},
   "source": [
    "Next, we can try the Naive Bayes Analyzer which returns the sentiment (positive or negative), a positive percentage and a negative percentage. The original star ratings can be converted to a percentage value using the following scale: \n",
    "- 1 star: 0% - 20% \n",
    "- 2 stars: 20% - 40%\n",
    "- 3 stars: 40% - 60% \n",
    "- 4 stars: 60% - 80% \n",
    "- 5 stars: 80% - 100%"
   ]
  },
  {
   "cell_type": "code",
   "execution_count": 15,
   "metadata": {},
   "outputs": [],
   "source": [
    "from textblob.sentiments import NaiveBayesAnalyzer\n",
    "from textblob import Blobber"
   ]
  },
  {
   "cell_type": "code",
   "execution_count": 16,
   "metadata": {},
   "outputs": [],
   "source": [
    "tb = Blobber(analyzer=NaiveBayesAnalyzer())"
   ]
  },
  {
   "cell_type": "code",
   "execution_count": 17,
   "metadata": {},
   "outputs": [
    {
     "data": {
      "text/html": [
       "<div>\n",
       "<style scoped>\n",
       "    .dataframe tbody tr th:only-of-type {\n",
       "        vertical-align: middle;\n",
       "    }\n",
       "\n",
       "    .dataframe tbody tr th {\n",
       "        vertical-align: top;\n",
       "    }\n",
       "\n",
       "    .dataframe thead th {\n",
       "        text-align: right;\n",
       "    }\n",
       "</style>\n",
       "<table border=\"1\" class=\"dataframe\">\n",
       "  <thead>\n",
       "    <tr style=\"text-align: right;\">\n",
       "      <th></th>\n",
       "      <th>reviewer_name</th>\n",
       "      <th>star_rating</th>\n",
       "      <th>review</th>\n",
       "      <th>polarity</th>\n",
       "      <th>subjectivity</th>\n",
       "      <th>assign_rating_polar</th>\n",
       "      <th>sentiment</th>\n",
       "      <th>pos</th>\n",
       "      <th>neg</th>\n",
       "      <th>pos_to_star</th>\n",
       "      <th>correct_star_calc</th>\n",
       "    </tr>\n",
       "  </thead>\n",
       "  <tbody>\n",
       "    <tr>\n",
       "      <th>0</th>\n",
       "      <td>Lora</td>\n",
       "      <td>5</td>\n",
       "      <td>I'm going to keep this brief since there isn't...</td>\n",
       "      <td>0.173611</td>\n",
       "      <td>0.643827</td>\n",
       "      <td>3</td>\n",
       "      <td>pos</td>\n",
       "      <td>1.000000</td>\n",
       "      <td>3.532977e-08</td>\n",
       "      <td>5</td>\n",
       "      <td>1</td>\n",
       "    </tr>\n",
       "    <tr>\n",
       "      <th>1</th>\n",
       "      <td>Zoë</td>\n",
       "      <td>5</td>\n",
       "      <td>I will never ever rate this lower than 5 stars...</td>\n",
       "      <td>0.850000</td>\n",
       "      <td>1.000000</td>\n",
       "      <td>5</td>\n",
       "      <td>pos</td>\n",
       "      <td>0.644927</td>\n",
       "      <td>3.550733e-01</td>\n",
       "      <td>4</td>\n",
       "      <td>0</td>\n",
       "    </tr>\n",
       "    <tr>\n",
       "      <th>2</th>\n",
       "      <td>Sasha Alsberg</td>\n",
       "      <td>5</td>\n",
       "      <td>Why the heck did I not read Harry Potter befor...</td>\n",
       "      <td>0.200000</td>\n",
       "      <td>0.550000</td>\n",
       "      <td>3</td>\n",
       "      <td>neg</td>\n",
       "      <td>0.078238</td>\n",
       "      <td>9.217616e-01</td>\n",
       "      <td>1</td>\n",
       "      <td>0</td>\n",
       "    </tr>\n",
       "    <tr>\n",
       "      <th>3</th>\n",
       "      <td>Jayson</td>\n",
       "      <td>4</td>\n",
       "      <td>(A-) 83% | Very Good\\nNotes: Despite a weak cl...</td>\n",
       "      <td>0.550000</td>\n",
       "      <td>0.779167</td>\n",
       "      <td>5</td>\n",
       "      <td>pos</td>\n",
       "      <td>0.999887</td>\n",
       "      <td>1.128192e-04</td>\n",
       "      <td>5</td>\n",
       "      <td>0</td>\n",
       "    </tr>\n",
       "    <tr>\n",
       "      <th>4</th>\n",
       "      <td>Harold Bloom</td>\n",
       "      <td>1</td>\n",
       "      <td>Can 35 Million Book Buyers Be Wrong? Yes.\\n\\nT...</td>\n",
       "      <td>0.162154</td>\n",
       "      <td>0.570289</td>\n",
       "      <td>3</td>\n",
       "      <td>pos</td>\n",
       "      <td>1.000000</td>\n",
       "      <td>1.455902e-22</td>\n",
       "      <td>5</td>\n",
       "      <td>0</td>\n",
       "    </tr>\n",
       "  </tbody>\n",
       "</table>\n",
       "</div>"
      ],
      "text/plain": [
       "   reviewer_name  star_rating  \\\n",
       "0          Lora             5   \n",
       "1           Zoë             5   \n",
       "2  Sasha Alsberg            5   \n",
       "3        Jayson             4   \n",
       "4  Harold Bloom             1   \n",
       "\n",
       "                                              review  polarity  subjectivity  \\\n",
       "0  I'm going to keep this brief since there isn't...  0.173611      0.643827   \n",
       "1  I will never ever rate this lower than 5 stars...  0.850000      1.000000   \n",
       "2  Why the heck did I not read Harry Potter befor...  0.200000      0.550000   \n",
       "3  (A-) 83% | Very Good\\nNotes: Despite a weak cl...  0.550000      0.779167   \n",
       "4  Can 35 Million Book Buyers Be Wrong? Yes.\\n\\nT...  0.162154      0.570289   \n",
       "\n",
       "  assign_rating_polar sentiment       pos           neg  pos_to_star  \\\n",
       "0                   3       pos  1.000000  3.532977e-08            5   \n",
       "1                   5       pos  0.644927  3.550733e-01            4   \n",
       "2                   3       neg  0.078238  9.217616e-01            1   \n",
       "3                   5       pos  0.999887  1.128192e-04            5   \n",
       "4                   3       pos  1.000000  1.455902e-22            5   \n",
       "\n",
       "   correct_star_calc  \n",
       "0                  1  \n",
       "1                  0  \n",
       "2                  0  \n",
       "3                  0  \n",
       "4                  0  "
      ]
     },
     "execution_count": 17,
     "metadata": {},
     "output_type": "execute_result"
    }
   ],
   "source": [
    "book_1[['sentiment', 'pos', 'neg']] = book_1['review'].apply(lambda v: pd.Series(tb(v).sentiment))\n",
    "# source: https://www.visualist.in/sentiment-analysis-with-textblob/\n",
    "\n",
    "book_1['pos_to_star'] = [1 if x <0.20 else 2 if x<0.40 else 3 if x<0.60 else 4 if x<0.80 else 5 for x in book_1['pos']] \n",
    "book_1['correct_star_calc'] = (book_1['pos_to_star']==book_1['star_rating']).astype(int)\n",
    "book_1.head()"
   ]
  },
  {
   "cell_type": "markdown",
   "metadata": {},
   "source": [
    "#### Compare assigned rating with actual star-rating"
   ]
  },
  {
   "cell_type": "code",
   "execution_count": 18,
   "metadata": {},
   "outputs": [
    {
     "name": "stdout",
     "output_type": "stream",
     "text": [
      "Wrong assignments (based on NaiveBayes):\n",
      "[(4, 5), (1, 5), (5, 4), (5, 1), (5, 1), (3, 2), (5, 2), (5, 4), (4, 5), (5, 3), (3, 4), (2, 5), (4, 3), (5, 4)]\n"
     ]
    }
   ],
   "source": [
    "# show the wrong pairs\n",
    "wrong_assign_act_rating = [ (assi, act) \n",
    "          for (assi, act) in zip(book_1['pos_to_star'], book_1['star_rating']) \n",
    "          if assi != act]\n",
    "print('Wrong assignments (based on NaiveBayes):')\n",
    "print(wrong_assign_act_rating)"
   ]
  },
  {
   "cell_type": "markdown",
   "metadata": {},
   "source": [
    "#### Score for Sentiment Analysis"
   ]
  },
  {
   "cell_type": "code",
   "execution_count": 19,
   "metadata": {},
   "outputs": [
    {
     "name": "stdout",
     "output_type": "stream",
     "text": [
      "percentage of star ratings correctly classified: 41.67%\n"
     ]
    }
   ],
   "source": [
    "total_correct = sum(book_1['correct_star_calc'])\n",
    "total_values = book_1['correct_star_calc'].count()\n",
    "percentage_correct = total_correct/total_values\n",
    "print(f'percentage of star ratings correctly classified: {percentage_correct:.2%}')"
   ]
  },
  {
   "cell_type": "markdown",
   "metadata": {},
   "source": [
    "As shown above, the calculated score for how closely the analysis matched the book ratings is 41.67%. "
   ]
  },
  {
   "cell_type": "code",
   "execution_count": 20,
   "metadata": {},
   "outputs": [
    {
     "name": "stdout",
     "output_type": "stream",
     "text": [
      "              precision    recall  f1-score   support\n",
      "\n",
      "      star_1       0.50      0.33      0.40         3\n",
      "      star_2       0.00      0.00      0.00         2\n",
      "      star_3       0.33      0.33      0.33         3\n",
      "      star_4       0.00      0.00      0.00         4\n",
      "      star_5       0.53      0.67      0.59        12\n",
      "\n",
      "    accuracy                           0.42        24\n",
      "   macro avg       0.27      0.27      0.27        24\n",
      "weighted avg       0.37      0.42      0.39        24\n",
      "\n"
     ]
    }
   ],
   "source": [
    "# show analysis score\n",
    "\n",
    "from sklearn.metrics import classification_report\n",
    "cr_bayes = classification_report(book_1['star_rating'], book_1['pos_to_star'], target_names=names, zero_division = True)\n",
    "print(cr_bayes)"
   ]
  },
  {
   "cell_type": "markdown",
   "metadata": {},
   "source": [
    "The results above illustrates that the NaiveBayes analyzer has a accuracy of 0.42 and a macor f1-score of 0.27. The performance of the Naive Bayes Classifier is better than the default analyzer. "
   ]
  },
  {
   "cell_type": "markdown",
   "metadata": {},
   "source": [
    "#### Confusion Matrix"
   ]
  },
  {
   "cell_type": "markdown",
   "metadata": {},
   "source": [
    "The confusion matrix below summarizes the predicted star ratings compared with the actual star ratings. Based on the matrix, the values were classified as follows:\n",
    "\n",
    "- One-star: 1 correctly classified, 2 mis-classified as a 5 \n",
    "- Two stars: 0 correctly classified, 1 mis-classified as a 3, 1 mis-classified as a 5\n",
    "- Three-stars: 1 correctly classified, 1 mis-classified as 4, 1 mis-classified as 5 \n",
    "- Four-stars: 0 correctly classified, 1 mis-classified as a 3 and 3 mis-classified as a 5 \n",
    "- Five-stars: 8 correctly classified, 2 mis-classified as a 3, 1 mis-classified as a 2 and 1 mis-classified as a 1 "
   ]
  },
  {
   "cell_type": "code",
   "execution_count": 21,
   "metadata": {},
   "outputs": [
    {
     "name": "stdout",
     "output_type": "stream",
     "text": [
      "Confusion matrix:\n",
      "[[1 0 0 0 2]\n",
      " [0 0 1 0 1]\n",
      " [0 0 1 1 1]\n",
      " [0 0 1 0 3]\n",
      " [1 1 0 2 8]]\n"
     ]
    }
   ],
   "source": [
    "from sklearn.metrics import confusion_matrix\n",
    "\n",
    "\n",
    "expected=book_1['star_rating']\n",
    "predicted=book_1['pos_to_star']\n",
    "confusion = confusion_matrix(y_true=expected, y_pred=predicted)\n",
    "\n",
    "print('Confusion matrix:')\n",
    "print(confusion)"
   ]
  },
  {
   "cell_type": "code",
   "execution_count": 22,
   "metadata": {},
   "outputs": [
    {
     "data": {
      "text/plain": [
       "(<Figure size 432x288 with 2 Axes>,\n",
       " <matplotlib.axes._subplots.AxesSubplot at 0x1a215b4250>)"
      ]
     },
     "execution_count": 22,
     "metadata": {},
     "output_type": "execute_result"
    },
    {
     "data": {
      "image/png": "[encoded data removed]",
      "text/plain": [
       "<Figure size 432x288 with 2 Axes>"
      ]
     },
     "metadata": {
      "needs_background": "light"
     },
     "output_type": "display_data"
    }
   ],
   "source": [
    "plot_confusion_matrix(book_1['star_rating'], book_1['pos_to_star'], normalize=True)"
   ]
  },
  {
   "cell_type": "markdown",
   "metadata": {},
   "source": [
    "The confusion matrix for the NaiveBayes analyzer indicates less classes classified correctly compared to the results of Default analyzer — both star_3 and star_4 don't have correct classifications along the anti-diagonal. However, the accuracy rate of each class is greater, more than 33%. As a result, the performance of this analyzer is better than the default one."
   ]
  },
  {
   "cell_type": "markdown",
   "metadata": {},
   "source": [
    "## Similarity analysis"
   ]
  },
  {
   "cell_type": "markdown",
   "metadata": {},
   "source": [
    "The similarity between every review of Dataset 1 and each review of Dataset 2 is conducted based on the package Spacy. We try to find which two reviews are written by same reviewers according to the calcualated similarity value.\n",
    "\n",
    "***Install necessary packages:***\n",
    "\n",
    "Note: Run the following commands in terminal first to install necessary package:\n",
    "\n",
    "    --------------------------------------\n",
    "    conda install -c conda-forge spacy\n",
    "    python -m spacy download en_core_web_lg\n",
    "    --------------------------------------"
   ]
  },
  {
   "cell_type": "code",
   "execution_count": 23,
   "metadata": {},
   "outputs": [],
   "source": [
    "import spacy\n",
    "nlp = spacy.load('en_core_web_lg') #refer from: https://spacy.io/usage/vectors-similarity\n",
    "# nlp = spacy.load('en')\n",
    "\n",
    "# '''\n",
    "# Note:\n",
    "# To make them compact and fast, spaCy’s small models (all packages that end in sm) don’t ship with word vectors, and only include context-sensitive tensors.\n",
    "# This means you can still use the similarity() methods to compare documents, spans and tokens – but the result won’t be as good, and individual tokens won’t have any vectors assigned. \n",
    "# So in order to use real word vectors, you need to download a larger model, that is 'en_core_web_lg'.\n",
    "# '''"
   ]
  },
  {
   "cell_type": "code",
   "execution_count": 24,
   "metadata": {},
   "outputs": [
    {
     "data": {
      "text/html": [
       "<div>\n",
       "<style scoped>\n",
       "    .dataframe tbody tr th:only-of-type {\n",
       "        vertical-align: middle;\n",
       "    }\n",
       "\n",
       "    .dataframe tbody tr th {\n",
       "        vertical-align: top;\n",
       "    }\n",
       "\n",
       "    .dataframe thead th {\n",
       "        text-align: right;\n",
       "    }\n",
       "</style>\n",
       "<table border=\"1\" class=\"dataframe\">\n",
       "  <thead>\n",
       "    <tr style=\"text-align: right;\">\n",
       "      <th></th>\n",
       "      <th>pair_review</th>\n",
       "      <th>hp1_reviewer_name</th>\n",
       "      <th>hp2_reviewer_name</th>\n",
       "      <th>similar_score</th>\n",
       "    </tr>\n",
       "  </thead>\n",
       "  <tbody>\n",
       "    <tr>\n",
       "      <th>0</th>\n",
       "      <td>(hp1_r0, hp2_r0)</td>\n",
       "      <td>Lora</td>\n",
       "      <td>Lora</td>\n",
       "      <td>0.959874</td>\n",
       "    </tr>\n",
       "    <tr>\n",
       "      <th>1</th>\n",
       "      <td>(hp1_r0, hp2_r1)</td>\n",
       "      <td>Lora</td>\n",
       "      <td>Zoë</td>\n",
       "      <td>0.936173</td>\n",
       "    </tr>\n",
       "    <tr>\n",
       "      <th>2</th>\n",
       "      <td>(hp1_r0, hp2_r2)</td>\n",
       "      <td>Lora</td>\n",
       "      <td>Sasha Alsberg</td>\n",
       "      <td>0.939711</td>\n",
       "    </tr>\n",
       "    <tr>\n",
       "      <th>3</th>\n",
       "      <td>(hp1_r0, hp2_r3)</td>\n",
       "      <td>Lora</td>\n",
       "      <td>Jayson</td>\n",
       "      <td>0.860968</td>\n",
       "    </tr>\n",
       "    <tr>\n",
       "      <th>4</th>\n",
       "      <td>(hp1_r0, hp2_r4)</td>\n",
       "      <td>Lora</td>\n",
       "      <td>Amanda Patterson</td>\n",
       "      <td>0.832041</td>\n",
       "    </tr>\n",
       "    <tr>\n",
       "      <th>...</th>\n",
       "      <td>...</td>\n",
       "      <td>...</td>\n",
       "      <td>...</td>\n",
       "      <td>...</td>\n",
       "    </tr>\n",
       "    <tr>\n",
       "      <th>571</th>\n",
       "      <td>(hp1_r23, hp2_r19)</td>\n",
       "      <td>Khanh, first of her name, mother of bunnies</td>\n",
       "      <td>Ahmad Sharabiani</td>\n",
       "      <td>0.901987</td>\n",
       "    </tr>\n",
       "    <tr>\n",
       "      <th>572</th>\n",
       "      <td>(hp1_r23, hp2_r20)</td>\n",
       "      <td>Khanh, first of her name, mother of bunnies</td>\n",
       "      <td>Renee Godding</td>\n",
       "      <td>0.947341</td>\n",
       "    </tr>\n",
       "    <tr>\n",
       "      <th>573</th>\n",
       "      <td>(hp1_r23, hp2_r21)</td>\n",
       "      <td>Khanh, first of her name, mother of bunnies</td>\n",
       "      <td>Elyse Walters</td>\n",
       "      <td>0.932165</td>\n",
       "    </tr>\n",
       "    <tr>\n",
       "      <th>574</th>\n",
       "      <td>(hp1_r23, hp2_r22)</td>\n",
       "      <td>Khanh, first of her name, mother of bunnies</td>\n",
       "      <td>Maureen</td>\n",
       "      <td>0.857435</td>\n",
       "    </tr>\n",
       "    <tr>\n",
       "      <th>575</th>\n",
       "      <td>(hp1_r23, hp2_r23)</td>\n",
       "      <td>Khanh, first of her name, mother of bunnies</td>\n",
       "      <td>James Lafayette Tivendale</td>\n",
       "      <td>0.954167</td>\n",
       "    </tr>\n",
       "  </tbody>\n",
       "</table>\n",
       "<p>576 rows × 4 columns</p>\n",
       "</div>"
      ],
      "text/plain": [
       "            pair_review                             hp1_reviewer_name  \\\n",
       "0      (hp1_r0, hp2_r0)                                         Lora    \n",
       "1      (hp1_r0, hp2_r1)                                         Lora    \n",
       "2      (hp1_r0, hp2_r2)                                         Lora    \n",
       "3      (hp1_r0, hp2_r3)                                         Lora    \n",
       "4      (hp1_r0, hp2_r4)                                         Lora    \n",
       "..                  ...                                           ...   \n",
       "571  (hp1_r23, hp2_r19)  Khanh, first of her name, mother of bunnies    \n",
       "572  (hp1_r23, hp2_r20)  Khanh, first of her name, mother of bunnies    \n",
       "573  (hp1_r23, hp2_r21)  Khanh, first of her name, mother of bunnies    \n",
       "574  (hp1_r23, hp2_r22)  Khanh, first of her name, mother of bunnies    \n",
       "575  (hp1_r23, hp2_r23)  Khanh, first of her name, mother of bunnies    \n",
       "\n",
       "             hp2_reviewer_name  similar_score  \n",
       "0                        Lora        0.959874  \n",
       "1                         Zoë        0.936173  \n",
       "2               Sasha Alsberg        0.939711  \n",
       "3                       Jayson       0.860968  \n",
       "4            Amanda Patterson        0.832041  \n",
       "..                         ...            ...  \n",
       "571          Ahmad Sharabiani        0.901987  \n",
       "572              Renee Godding       0.947341  \n",
       "573              Elyse Walters       0.932165  \n",
       "574                    Maureen       0.857435  \n",
       "575  James Lafayette Tivendale       0.954167  \n",
       "\n",
       "[576 rows x 4 columns]"
      ]
     },
     "execution_count": 24,
     "metadata": {},
     "output_type": "execute_result"
    }
   ],
   "source": [
    "similar_score = []\n",
    "pair_review = []\n",
    "hp1_reviewer_name = []\n",
    "hp2_reviewer_name = []\n",
    "for i in book_1.index:\n",
    "    text1 = nlp(reviews_corr_useful_1[i])\n",
    "#     text1 = nlp(reviews_hp1.loc[i, 'review'])\n",
    "    for j in book_2.index:\n",
    "        text2 = nlp(reviews_corr_useful_2[j])\n",
    "#         text2 = nlp(reviews_hp2.loc[j, 'review'])\n",
    "        pair_review.append((f'hp1_r{i}', f'hp2_r{j}'))\n",
    "        hp1_reviewer_name.append(book_1.loc[i,'reviewer_name'])\n",
    "        hp2_reviewer_name.append(book_2.loc[j,'reviewer_name'])\n",
    "        similar_score.append(text2.similarity(text1))\n",
    "\n",
    "simi = pd.DataFrame()\n",
    "simi['pair_review'] = pd.Series(pair_review)\n",
    "simi['hp1_reviewer_name'] = pd.Series(hp1_reviewer_name)\n",
    "simi['hp2_reviewer_name'] = pd.Series(hp2_reviewer_name)\n",
    "simi['similar_score'] = pd.Series(similar_score)\n",
    "simi"
   ]
  },
  {
   "cell_type": "markdown",
   "metadata": {},
   "source": [
    "### Evaluate Results of Similarity Analysis"
   ]
  },
  {
   "cell_type": "code",
   "execution_count": 25,
   "metadata": {},
   "outputs": [
    {
     "name": "stdout",
     "output_type": "stream",
     "text": [
      "The information of reviews from same reviewers:\n",
      "\n",
      "[(('hp1_r0', 'hp2_r0'), 'Lora\\xa0', 0.9599), (('hp1_r1', 'hp2_r1'), 'Zoë\\xa0', 0.7927), (('hp1_r5', 'hp2_r4'), 'Amanda Patterson\\xa0', 0.8248), (('hp1_r8', 'hp2_r7'), 'Nina', 0.9628), (('hp1_r11', 'hp2_r20'), 'Renee Godding', 0.8268), (('hp1_r12', 'hp2_r9'), 'Cindy Pham', 0.9684), (('hp1_r13', 'hp2_r10'), 'Em Lost In Books', 0.7144), (('hp1_r14', 'hp2_r18'), 'Samantha', 0.85), (('hp1_r15', 'hp2_r17'), 'ambsreads', 0.9228), (('hp1_r16', 'hp2_r22'), 'Maureen', 0.8902), (('hp1_r17', 'hp2_r15'), 'Lara', 0.7831), (('hp1_r18', 'hp2_r21'), 'Elyse Walters', 0.9567), (('hp1_r19', 'hp2_r16'), 'Kainat(HUFFLEPUFF & PROUD)', 0.8307), (('hp1_r20', 'hp2_r11'), 'Virginia Ronan Herondale', 0.9913), (('hp1_r21', 'hp2_r23'), 'James Lafayette Tivendale', 0.9479), (('hp1_r22', 'hp2_r19'), 'Ahmad Sharabiani\\xa0', 0.9388), (('hp1_r23', 'hp2_r14'), 'Khanh, first of her name, mother of bunnies\\xa0', 0.9234)]\n",
      "\n",
      "total pairs of reviews from same reviewers                   = 17\n",
      "avarage similarity score of reviews from same reviewers      = 88.73%\n",
      "avarage similarity score of reviews from different reviewers = 86.37%\n",
      "\n"
     ]
    }
   ],
   "source": [
    "info_same_reviewer = []\n",
    "count_diff_rev = 0\n",
    "t_simi_diff_rev = 0\n",
    "t_simi_same_rev = 0\n",
    "for i in simi.index:\n",
    "    if simi.loc[i, 'hp1_reviewer_name'] == simi.loc[i, 'hp2_reviewer_name']:\n",
    "        pair_review = simi.loc[i, 'pair_review']\n",
    "        reviewer = simi.loc[i, 'hp1_reviewer_name']\n",
    "        similarity = round(simi.loc[i, 'similar_score'], 4)\n",
    "        t_simi_same_rev += simi.loc[i, 'similar_score']\n",
    "        info_same_reviewer.append((pair_review, reviewer, similarity))\n",
    "    else:\n",
    "        count_diff_rev += 1\n",
    "        t_simi_diff_rev += simi.loc[i, 'similar_score']\n",
    "print('The information of reviews from same reviewers:\\n')\n",
    "print(info_same_reviewer)\n",
    "print()\n",
    "print(f'total pairs of reviews from same reviewers                   = {len(info_same_reviewer)}')\n",
    "print(f'avarage similarity score of reviews from same reviewers      = {t_simi_same_rev/len(info_same_reviewer):.2%}')\n",
    "print(f'avarage similarity score of reviews from different reviewers = {t_simi_diff_rev/count_diff_rev:.2%}')\n",
    "print()"
   ]
  },
  {
   "cell_type": "markdown",
   "metadata": {},
   "source": [
    "The result above shows that we cannot judge if two different reviews are written by one reviewer only on the basis of similarity value since there are not obvious differences between the value of two reviews from same reviewers and the value of reviews from different reviewers. Then we calculated the average similarity value of reviews from same reviewers and that from different reviewers. They are 88.74% and 86.38% respectively, not a very big gap, futher explaining that the similarity value is not a good judgement tool. This may be due to the fact that all reviews were written on a very similar topic (Harry Potter books) and would likely have used many of the same words."
   ]
  },
  {
   "cell_type": "code",
   "execution_count": 26,
   "metadata": {},
   "outputs": [],
   "source": [
    "result=[]\n",
    "\n",
    "reviewers_1=book_1['reviewer_name']\n",
    "reviews_1=book_1['review']\n",
    "reviewers_2=book_2['reviewer_name']\n",
    "reviews_2=book_2['review']\n",
    "\n",
    "for i in range(0,len(reviewers_1)):\n",
    "    current_reviewer_1=reviewers_1[i]\n",
    "    current_review_1=reviews_1[i]\n",
    "    for x in range(0,len(reviewers_2)):\n",
    "        result_i=[]\n",
    "        current_reviewer_2=reviewers_2[x]\n",
    "        if current_reviewer_1==current_reviewer_2:\n",
    "            result_i.append(1)\n",
    "        else: \n",
    "            result_i.append(0)\n",
    "        current_review_2=reviews_2[x]\n",
    "        doc_rev1=nlp(current_review_1)\n",
    "        doc_rev2=nlp(current_review_2)\n",
    "        sim_result = doc_rev1.similarity(doc_rev2)\n",
    "        #result_i.append(current_reviewer_1)\n",
    "        #result_i.append(current_reviewer_2)\n",
    "        result_i.append(sim_result)\n",
    "        result.append(result_i)"
   ]
  },
  {
   "cell_type": "code",
   "execution_count": 27,
   "metadata": {},
   "outputs": [],
   "source": [
    "same_reviewer=[]\n",
    "similarity=[]\n",
    "\n",
    "for i in result: \n",
    "    same_reviewer.append(i[0])\n",
    "    similarity.append(i[1])                        "
   ]
  },
  {
   "cell_type": "code",
   "execution_count": 28,
   "metadata": {},
   "outputs": [
    {
     "data": {
      "image/png": "[encoded data removed]",
      "text/plain": [
       "<Figure size 1080x720 with 1 Axes>"
      ]
     },
     "metadata": {
      "needs_background": "light"
     },
     "output_type": "display_data"
    }
   ],
   "source": [
    "from matplotlib import pyplot as plt\n",
    "import seaborn as sns\n",
    "plt.figure(figsize=(15,10))\n",
    "sns.boxenplot(x=same_reviewer, y=similarity)\n",
    "plt.show()"
   ]
  },
  {
   "cell_type": "markdown",
   "metadata": {},
   "source": [
    "As shown by the graph above, there is little difference between the average similarity scores of reviews that were written by the same reviewer (orange) and those written by different reviews (blue), further confirming that the similarity value does not allow us to determine which reviews were written by the same reviewer for this dataset."
   ]
  },
  {
   "cell_type": "markdown",
   "metadata": {},
   "source": [
    "### Accuracy Score"
   ]
  },
  {
   "cell_type": "markdown",
   "metadata": {},
   "source": [
    "Given that all these reviews are written about the same topic (Harry Potter books), 0.8 seems a reasonable similarity value that two reviews should have if they were written by the samee reviewer. If we consider a similarity score of 0.8 or higher to be an indication that two reviews were written by the same reviewer, and a similarity value lower than 0.8 to indicate that they were written by a different reviewer, we can calculate an approximate score for the similarity analysis. This is just an approximate score, as we cannot directly calculate a score based on these similarity values. As shown below, the calculated score is very low at 8.33%, which suggests that the similarity function was not very successful in determining if two reviews were written by the same reviewer."
   ]
  },
  {
   "cell_type": "code",
   "execution_count": 30,
   "metadata": {},
   "outputs": [
    {
     "name": "stdout",
     "output_type": "stream",
     "text": [
      "\n",
      "Number of true (classified same and same in fact):           17\n",
      "Number of true (classified different and different in fact): 31\n",
      "Number of false:                                             528\n",
      "\n",
      "Percentage of similarity scores that accurately reflected review authorship: 8.33%\n"
     ]
    }
   ],
   "source": [
    "count_good_pos=0\n",
    "count_good_neg=0\n",
    "count_bad=0\n",
    "\n",
    "for i in result: \n",
    "    if i[0]==1 and i[1]>=0.8:\n",
    "        count_good_pos +=1\n",
    "    elif i[0]==0 and i[1]<0.8:\n",
    "        count_good_neg +=1\n",
    "    else: \n",
    "        count_bad+=1\n",
    "\n",
    "percentage_good = (count_good_pos + count_good_neg)/(count_good_pos + count_good_neg + count_bad)        \n",
    "print(f'\\nNumber of true (classified same and same in fact):           {count_good_pos}')\n",
    "print(f'Number of true (classified different and different in fact): {count_good_neg}')\n",
    "print(f'Number of false:                                             {count_bad}')\n",
    "print(f'\\nPercentage of similarity scores that accurately reflected review authorship: {percentage_good:.2%}')"
   ]
  },
  {
   "cell_type": "code",
   "execution_count": 33,
   "metadata": {},
   "outputs": [
    {
     "name": "stdout",
     "output_type": "stream",
     "text": [
      "\n",
      "Number of true (classified same and same in fact):                         1\n",
      "Number of true (classified different and different in fact):               544\n",
      "Number of classified as same but different in fact (i.e., false positve):  15\n",
      "Number of classified as different but same in fact (i.e., false negative): 16\n",
      "\n",
      "Percentage of true: 94.62%\n",
      "Percentage of false positive: 2.60%\n",
      "Percentage of false negative: 2.78%\n"
     ]
    }
   ],
   "source": [
    "true_pos = 0\n",
    "true_neg = 0\n",
    "false_pos = 0\n",
    "false_neg = 0\n",
    "for i in simi.index:\n",
    "    if simi.loc[i, 'hp1_reviewer_name'] == simi.loc[i, 'hp2_reviewer_name'] and simi.loc[i, 'similar_score'] > 0.97:\n",
    "        true_pos += 1\n",
    "    elif simi.loc[i, 'hp1_reviewer_name'] != simi.loc[i, 'hp2_reviewer_name'] and simi.loc[i, 'similar_score'] <= 0.97:\n",
    "        true_neg += 1\n",
    "    elif simi.loc[i, 'hp1_reviewer_name'] != simi.loc[i, 'hp2_reviewer_name'] and simi.loc[i, 'similar_score'] > 0.97:\n",
    "        false_pos += 1\n",
    "    else:\n",
    "        false_neg += 1\n",
    "total = true_pos + true_neg + false_pos + false_neg\n",
    "print(f'\\nNumber of true (classified same and same in fact):                         {true_pos}')\n",
    "print(f'Number of true (classified different and different in fact):               {true_neg}')\n",
    "print(f'Number of classified as same but different in fact (i.e., false positve):  {false_pos}')\n",
    "print(f'Number of classified as different but same in fact (i.e., false negative): {false_neg}')\n",
    "print(f'\\nPercentage of true: {(true_pos+true_neg)/total:.2%}')\n",
    "print(f'Percentage of false positive: {false_pos/total:.2%}')\n",
    "print(f'Percentage of false negative: {false_neg/total:.2%}')"
   ]
  },
  {
   "cell_type": "markdown",
   "metadata": {},
   "source": [
    "\n",
    "Result above shows that accuracy rate is only 8.33% under the senario with a criteria of 0.8. It is because that it incorrectly classified 528 out of 559 (94%) reviews that were written by different reviewers as ones from the same reviewer although it found out all reviews that truely were written by the same reviewer. Then we increased the criteria from 0.8 to 0.97. Accordingly, the accuracy rate is improved significantly from 8.33% to 94.62%. In particular, the rate that we correctly found the reviews that were truely from different reviewers as ones that were written by different reviewers surged while only 1 out of the 17 reviews that were written by the same reviewer was found out successfully. By contrast, both the percentage of false positive and false negtive are low, only 2.6% and 2.78% respectively. It means that if we use a high similarity value as the classification criteria, we could successfully determine reviews that come from different reviewers but fail to find those written from the same reviewer."
   ]
  },
  {
   "cell_type": "markdown",
   "metadata": {},
   "source": [
    "## Other Experiments"
   ]
  },
  {
   "cell_type": "markdown",
   "metadata": {},
   "source": [
    "### Calculating a Similarity Value Using \"en_core_web_md\""
   ]
  },
  {
   "cell_type": "markdown",
   "metadata": {},
   "source": [
    "For this part, we conducted the similarity analysis again  and tried aother pre_trained model which is built in Spacy to substitute the one called \"en_core_web_lg\" due to its bad performance.\n",
    "\n",
    "***Install necessary packages:***\n",
    "\n",
    "Note: Run the following commands in terminal first to install necessary package:\n",
    "    \n",
    "     --------------------------------------\n",
    "     conda install -c conda-forge spacy\n",
    "     python -m spacy download en_core_web_md\n",
    "     --------------------------------------\n",
    "    "
   ]
  },
  {
   "cell_type": "code",
   "execution_count": 34,
   "metadata": {},
   "outputs": [],
   "source": [
    "import spacy\n",
    "nlp = spacy.load('en_core_web_md') #refer from: https://spacy.io/models/en"
   ]
  },
  {
   "cell_type": "code",
   "execution_count": 35,
   "metadata": {},
   "outputs": [
    {
     "data": {
      "text/html": [
       "<div>\n",
       "<style scoped>\n",
       "    .dataframe tbody tr th:only-of-type {\n",
       "        vertical-align: middle;\n",
       "    }\n",
       "\n",
       "    .dataframe tbody tr th {\n",
       "        vertical-align: top;\n",
       "    }\n",
       "\n",
       "    .dataframe thead th {\n",
       "        text-align: right;\n",
       "    }\n",
       "</style>\n",
       "<table border=\"1\" class=\"dataframe\">\n",
       "  <thead>\n",
       "    <tr style=\"text-align: right;\">\n",
       "      <th></th>\n",
       "      <th>pair_review</th>\n",
       "      <th>hp1_reviewer_name</th>\n",
       "      <th>hp2_reviewer_name</th>\n",
       "      <th>similar_score</th>\n",
       "    </tr>\n",
       "  </thead>\n",
       "  <tbody>\n",
       "    <tr>\n",
       "      <th>0</th>\n",
       "      <td>(hp1_r0, hp2_r0)</td>\n",
       "      <td>Lora</td>\n",
       "      <td>Lora</td>\n",
       "      <td>0.963351</td>\n",
       "    </tr>\n",
       "    <tr>\n",
       "      <th>1</th>\n",
       "      <td>(hp1_r0, hp2_r1)</td>\n",
       "      <td>Lora</td>\n",
       "      <td>Zoë</td>\n",
       "      <td>0.940110</td>\n",
       "    </tr>\n",
       "    <tr>\n",
       "      <th>2</th>\n",
       "      <td>(hp1_r0, hp2_r2)</td>\n",
       "      <td>Lora</td>\n",
       "      <td>Sasha Alsberg</td>\n",
       "      <td>0.939935</td>\n",
       "    </tr>\n",
       "    <tr>\n",
       "      <th>3</th>\n",
       "      <td>(hp1_r0, hp2_r3)</td>\n",
       "      <td>Lora</td>\n",
       "      <td>Jayson</td>\n",
       "      <td>0.864491</td>\n",
       "    </tr>\n",
       "    <tr>\n",
       "      <th>4</th>\n",
       "      <td>(hp1_r0, hp2_r4)</td>\n",
       "      <td>Lora</td>\n",
       "      <td>Amanda Patterson</td>\n",
       "      <td>0.832686</td>\n",
       "    </tr>\n",
       "  </tbody>\n",
       "</table>\n",
       "</div>"
      ],
      "text/plain": [
       "        pair_review hp1_reviewer_name  hp2_reviewer_name  similar_score\n",
       "0  (hp1_r0, hp2_r0)             Lora               Lora        0.963351\n",
       "1  (hp1_r0, hp2_r1)             Lora                Zoë        0.940110\n",
       "2  (hp1_r0, hp2_r2)             Lora      Sasha Alsberg        0.939935\n",
       "3  (hp1_r0, hp2_r3)             Lora              Jayson       0.864491\n",
       "4  (hp1_r0, hp2_r4)             Lora   Amanda Patterson        0.832686"
      ]
     },
     "execution_count": 35,
     "metadata": {},
     "output_type": "execute_result"
    }
   ],
   "source": [
    "similar_score = []\n",
    "pair_review = []\n",
    "hp1_reviewer_name = []\n",
    "hp2_reviewer_name = []\n",
    "for i in book_1.index:\n",
    "    text1 = nlp(reviews_corr_useful_1[i])\n",
    "#     text1 = nlp(reviews_hp1.loc[i, 'review'])\n",
    "    for j in book_2.index:\n",
    "        text2 = nlp(reviews_corr_useful_2[j])\n",
    "#         text2 = nlp(reviews_hp2.loc[j, 'review'])\n",
    "        pair_review.append((f'hp1_r{i}', f'hp2_r{j}'))\n",
    "        hp1_reviewer_name.append(book_1.loc[i,'reviewer_name'])\n",
    "        hp2_reviewer_name.append(book_2.loc[j,'reviewer_name'])\n",
    "        similar_score.append(text2.similarity(text1))\n",
    "\n",
    "simi = pd.DataFrame()\n",
    "simi['pair_review'] = pd.Series(pair_review)\n",
    "simi['hp1_reviewer_name'] = pd.Series(hp1_reviewer_name)\n",
    "simi['hp2_reviewer_name'] = pd.Series(hp2_reviewer_name)\n",
    "simi['similar_score'] = pd.Series(similar_score)\n",
    "simi.head()"
   ]
  },
  {
   "cell_type": "markdown",
   "metadata": {},
   "source": [
    "#### Evaluate Results of Similarity Analysis"
   ]
  },
  {
   "cell_type": "code",
   "execution_count": 36,
   "metadata": {},
   "outputs": [
    {
     "name": "stdout",
     "output_type": "stream",
     "text": [
      "The information of reviews from same reviewers:\n",
      "\n",
      "[(('hp1_r0', 'hp2_r0'), 'Lora\\xa0', 0.9634), (('hp1_r1', 'hp2_r1'), 'Zoë\\xa0', 0.795), (('hp1_r5', 'hp2_r4'), 'Amanda Patterson\\xa0', 0.8283), (('hp1_r8', 'hp2_r7'), 'Nina', 0.9645), (('hp1_r11', 'hp2_r20'), 'Renee Godding', 0.8268), (('hp1_r12', 'hp2_r9'), 'Cindy Pham', 0.9729), (('hp1_r13', 'hp2_r10'), 'Em Lost In Books', 0.7204), (('hp1_r14', 'hp2_r18'), 'Samantha', 0.85), (('hp1_r15', 'hp2_r17'), 'ambsreads', 0.9231), (('hp1_r16', 'hp2_r22'), 'Maureen', 0.896), (('hp1_r17', 'hp2_r15'), 'Lara', 0.79), (('hp1_r18', 'hp2_r21'), 'Elyse Walters', 0.9576), (('hp1_r19', 'hp2_r16'), 'Kainat(HUFFLEPUFF & PROUD)', 0.8478), (('hp1_r20', 'hp2_r11'), 'Virginia Ronan Herondale', 0.9921), (('hp1_r21', 'hp2_r23'), 'James Lafayette Tivendale', 0.9495), (('hp1_r22', 'hp2_r19'), 'Ahmad Sharabiani\\xa0', 0.9426), (('hp1_r23', 'hp2_r14'), 'Khanh, first of her name, mother of bunnies\\xa0', 0.9274)]\n",
      "\n",
      "total pairs of reviews from same reviewers                   = 17\n",
      "avarage similarity score of reviews from same reviewers      = 89.10%\n",
      "avarage similarity score of reviews from different reviewers = 86.79%\n",
      "\n"
     ]
    }
   ],
   "source": [
    "info_same_reviewer = []\n",
    "count_diff_rev = 0\n",
    "t_simi_diff_rev = 0\n",
    "t_simi_same_rev = 0\n",
    "for i in simi.index:\n",
    "    if simi.loc[i, 'hp1_reviewer_name'] == simi.loc[i, 'hp2_reviewer_name']:\n",
    "        pair_review = simi.loc[i, 'pair_review']\n",
    "        reviewer = simi.loc[i, 'hp1_reviewer_name']\n",
    "        similarity = round(simi.loc[i, 'similar_score'], 4)\n",
    "        t_simi_same_rev += simi.loc[i, 'similar_score']\n",
    "        info_same_reviewer.append((pair_review, reviewer, similarity))\n",
    "    else:\n",
    "        count_diff_rev += 1\n",
    "        t_simi_diff_rev += simi.loc[i, 'similar_score']\n",
    "print('The information of reviews from same reviewers:\\n')\n",
    "print(info_same_reviewer)\n",
    "print()\n",
    "print(f'total pairs of reviews from same reviewers                   = {len(info_same_reviewer)}')\n",
    "print(f'avarage similarity score of reviews from same reviewers      = {t_simi_same_rev/len(info_same_reviewer):.2%}')\n",
    "print(f'avarage similarity score of reviews from different reviewers = {t_simi_diff_rev/count_diff_rev:.2%}')\n",
    "print()"
   ]
  },
  {
   "cell_type": "markdown",
   "metadata": {},
   "source": [
    "This result shows that the average similarity score of reviews from same reviewers is slightly higher than the value calcualted by the model named \"en_core_web_lg\", but still cannot judge which two reviews are written by same reviewers."
   ]
  },
  {
   "cell_type": "markdown",
   "metadata": {},
   "source": [
    "#### Accuracy Score"
   ]
  },
  {
   "cell_type": "code",
   "execution_count": 37,
   "metadata": {},
   "outputs": [
    {
     "name": "stdout",
     "output_type": "stream",
     "text": [
      "\n",
      "Number of true (classified same and same in fact):                         2\n",
      "Number of true (classified different and different in fact):               541\n",
      "Number of classified as same but different in fact (i.e., false positve):  18\n",
      "Number of classified as different but same in fact (i.e., false negative): 15\n",
      "\n",
      "Percentage of true: 94.27%\n",
      "Percentage of false positive: 3.12%\n",
      "Percentage of false negative: 2.60%\n"
     ]
    }
   ],
   "source": [
    "true_pos = 0\n",
    "true_neg = 0\n",
    "false_pos = 0\n",
    "false_neg = 0\n",
    "for i in simi.index:\n",
    "    if simi.loc[i, 'hp1_reviewer_name'] == simi.loc[i, 'hp2_reviewer_name'] and simi.loc[i, 'similar_score'] > 0.97:\n",
    "        true_pos += 1\n",
    "    elif simi.loc[i, 'hp1_reviewer_name'] != simi.loc[i, 'hp2_reviewer_name'] and simi.loc[i, 'similar_score'] <= 0.97:\n",
    "        true_neg += 1\n",
    "    elif simi.loc[i, 'hp1_reviewer_name'] != simi.loc[i, 'hp2_reviewer_name'] and simi.loc[i, 'similar_score'] > 0.97:\n",
    "        false_pos += 1\n",
    "    else:\n",
    "        false_neg += 1\n",
    "total = true_pos + true_neg + false_pos + false_neg\n",
    "print(f'\\nNumber of true (classified same and same in fact):                         {true_pos}')\n",
    "print(f'Number of true (classified different and different in fact):               {true_neg}')\n",
    "print(f'Number of classified as same but different in fact (i.e., false positve):  {false_pos}')\n",
    "print(f'Number of classified as different but same in fact (i.e., false negative): {false_neg}')\n",
    "print(f'\\nPercentage of true: {(true_pos+true_neg)/total:.2%}')\n",
    "print(f'Percentage of false positive: {false_pos/total:.2%}')\n",
    "print(f'Percentage of false negative: {false_neg/total:.2%}')"
   ]
  },
  {
   "cell_type": "code",
   "execution_count": null,
   "metadata": {},
   "outputs": [],
   "source": []
  }
 ],
 "metadata": {
  "kernelspec": {
   "display_name": "Python 3",
   "language": "python",
   "name": "python3"
  },
  "language_info": {
   "codemirror_mode": {
    "name": "ipython",
    "version": 3
   },
   "file_extension": ".py",
   "mimetype": "text/x-python",
   "name": "python",
   "nbconvert_exporter": "python",
   "pygments_lexer": "ipython3",
   "version": "3.7.4"
  }
 },
 "nbformat": 4,
 "nbformat_minor": 4
}
